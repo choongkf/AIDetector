{
 "cells": [
  {
   "cell_type": "markdown",
   "id": "2170b175",
   "metadata": {},
   "source": [
    "# AI Text Detector - RoBERTa Model Training\n",
    "\n",
    "This notebook trains a RoBERTa-based model for AI text detection using your balanced dataset of 23,276 samples.\n",
    "\n",
    "## Model: RoBERTa-base\n",
    "- **Strengths**: Excellent text understanding, robust performance\n",
    "- **Use Case**: High-accuracy AI detection\n",
    "- **Architecture**: Transformer-based encoder model"
   ]
  },
  {
   "cell_type": "code",
   "execution_count": 1,
   "id": "3565f839",
   "metadata": {},
   "outputs": [
    {
     "name": "stdout",
     "output_type": "stream",
     "text": [
      "Using device: cpu\n"
     ]
    }
   ],
   "source": [
    "# Import Required Libraries\n",
    "import pandas as pd\n",
    "import numpy as np\n",
    "import torch\n",
    "import torch.nn as nn\n",
    "from torch.utils.data import Dataset, DataLoader\n",
    "from transformers import (\n",
    "    RobertaTokenizer, RobertaForSequenceClassification,\n",
    "    TrainingArguments, Trainer, EvalPrediction\n",
    ")\n",
    "from sklearn.model_selection import train_test_split\n",
    "from sklearn.metrics import accuracy_score, precision_recall_fscore_support, confusion_matrix, classification_report\n",
    "import matplotlib.pyplot as plt\n",
    "import seaborn as sns\n",
    "from tqdm.auto import tqdm\n",
    "import warnings\n",
    "warnings.filterwarnings('ignore')\n",
    "\n",
    "# Check GPU availability\n",
    "device = torch.device('cuda' if torch.cuda.is_available() else 'cpu')\n",
    "print(f\"Using device: {device}\")\n",
    "if torch.cuda.is_available():\n",
    "    print(f\"GPU: {torch.cuda.get_device_name(0)}\")\n",
    "    print(f\"Memory: {torch.cuda.get_device_properties(0).total_memory / 1024**3:.1f} GB\")"
   ]
  },
  {
   "cell_type": "code",
   "execution_count": 2,
   "id": "f0383907",
   "metadata": {},
   "outputs": [
    {
     "name": "stdout",
     "output_type": "stream",
     "text": [
      "Loading dataset...\n",
      "Dataset shape: (23274, 2)\n",
      "Class distribution:\n",
      "generated\n",
      "1    11637\n",
      "0    11637\n",
      "Name: count, dtype: int64\n",
      "\n",
      "Total samples: 23274\n",
      "Sample text length: 4091 characters\n",
      "Dataset shape: (23274, 2)\n",
      "Class distribution:\n",
      "generated\n",
      "1    11637\n",
      "0    11637\n",
      "Name: count, dtype: int64\n",
      "\n",
      "Total samples: 23274\n",
      "Sample text length: 4091 characters\n"
     ]
    }
   ],
   "source": [
    "# Load and prepare the dataset\n",
    "print(\"Loading dataset...\")\n",
    "df = pd.read_csv('../Training_Essay_Data.csv')\n",
    "\n",
    "print(f\"Dataset shape: {df.shape}\")\n",
    "print(f\"Class distribution:\")\n",
    "print(df['generated'].value_counts())\n",
    "\n",
    "# Prepare data\n",
    "texts = df['text'].tolist()\n",
    "labels = df['generated'].tolist()\n",
    "\n",
    "print(f\"\\nTotal samples: {len(texts)}\")\n",
    "print(f\"Sample text length: {len(texts[0])} characters\")"
   ]
  },
  {
   "cell_type": "code",
   "execution_count": 3,
   "id": "ebe550f3",
   "metadata": {},
   "outputs": [
    {
     "name": "stdout",
     "output_type": "stream",
     "text": [
      "Training samples: 16291\n",
      "Validation samples: 3491\n",
      "Test samples: 3492\n",
      "\n",
      "Training set distribution:\n",
      "Human: 8145, AI: 8146\n",
      "Validation set distribution:\n",
      "Human: 1746, AI: 1745\n"
     ]
    }
   ],
   "source": [
    "# Split the data\n",
    "X_train, X_temp, y_train, y_temp = train_test_split(\n",
    "    texts, labels, test_size=0.3, random_state=42, stratify=labels\n",
    ")\n",
    "\n",
    "X_val, X_test, y_val, y_test = train_test_split(\n",
    "    X_temp, y_temp, test_size=0.5, random_state=42, stratify=y_temp\n",
    ")\n",
    "\n",
    "print(f\"Training samples: {len(X_train)}\")\n",
    "print(f\"Validation samples: {len(X_val)}\")\n",
    "print(f\"Test samples: {len(X_test)}\")\n",
    "\n",
    "# Check distribution\n",
    "print(f\"\\nTraining set distribution:\")\n",
    "print(f\"Human: {y_train.count(0)}, AI: {y_train.count(1)}\")\n",
    "print(f\"Validation set distribution:\")\n",
    "print(f\"Human: {y_val.count(0)}, AI: {y_val.count(1)}\")"
   ]
  },
  {
   "cell_type": "code",
   "execution_count": 4,
   "id": "4dd2c0c0",
   "metadata": {},
   "outputs": [
    {
     "name": "stdout",
     "output_type": "stream",
     "text": [
      "Loading roberta-base tokenizer and model...\n"
     ]
    },
    {
     "name": "stderr",
     "output_type": "stream",
     "text": [
      "Some weights of RobertaForSequenceClassification were not initialized from the model checkpoint at roberta-base and are newly initialized: ['classifier.dense.bias', 'classifier.dense.weight', 'classifier.out_proj.bias', 'classifier.out_proj.weight']\n",
      "You should probably TRAIN this model on a down-stream task to be able to use it for predictions and inference.\n"
     ]
    },
    {
     "name": "stdout",
     "output_type": "stream",
     "text": [
      "Model loaded successfully!\n",
      "Model parameters: 124,647,170\n"
     ]
    }
   ],
   "source": [
    "# Initialize RoBERTa tokenizer and model\n",
    "MODEL_NAME = 'roberta-base'\n",
    "MAX_LENGTH = 512  # RoBERTa's maximum sequence length\n",
    "\n",
    "print(f\"Loading {MODEL_NAME} tokenizer and model...\")\n",
    "tokenizer = RobertaTokenizer.from_pretrained(MODEL_NAME)\n",
    "model = RobertaForSequenceClassification.from_pretrained(\n",
    "    MODEL_NAME,\n",
    "    num_labels=2,\n",
    "    output_attentions=False,\n",
    "    output_hidden_states=False\n",
    ")\n",
    "\n",
    "print(f\"Model loaded successfully!\")\n",
    "print(f\"Model parameters: {model.num_parameters():,}\")"
   ]
  },
  {
   "cell_type": "code",
   "execution_count": 5,
   "id": "717e49d5",
   "metadata": {},
   "outputs": [
    {
     "name": "stdout",
     "output_type": "stream",
     "text": [
      "Creating datasets...\n",
      "Datasets created successfully!\n"
     ]
    }
   ],
   "source": [
    "# Create custom dataset class\n",
    "class AIDetectionDataset(Dataset):\n",
    "    def __init__(self, texts, labels, tokenizer, max_length):\n",
    "        self.texts = texts\n",
    "        self.labels = labels\n",
    "        self.tokenizer = tokenizer\n",
    "        self.max_length = max_length\n",
    "    \n",
    "    def __len__(self):\n",
    "        return len(self.texts)\n",
    "    \n",
    "    def __getitem__(self, idx):\n",
    "        text = str(self.texts[idx])\n",
    "        label = self.labels[idx]\n",
    "        \n",
    "        # Tokenize text\n",
    "        encoding = self.tokenizer(\n",
    "            text,\n",
    "            truncation=True,\n",
    "            padding='max_length',\n",
    "            max_length=self.max_length,\n",
    "            return_tensors='pt'\n",
    "        )\n",
    "        \n",
    "        return {\n",
    "            'input_ids': encoding['input_ids'].flatten(),\n",
    "            'attention_mask': encoding['attention_mask'].flatten(),\n",
    "            'labels': torch.tensor(label, dtype=torch.long)\n",
    "        }\n",
    "\n",
    "# Create datasets\n",
    "print(\"Creating datasets...\")\n",
    "train_dataset = AIDetectionDataset(X_train, y_train, tokenizer, MAX_LENGTH)\n",
    "val_dataset = AIDetectionDataset(X_val, y_val, tokenizer, MAX_LENGTH)\n",
    "test_dataset = AIDetectionDataset(X_test, y_test, tokenizer, MAX_LENGTH)\n",
    "\n",
    "print(\"Datasets created successfully!\")"
   ]
  },
  {
   "cell_type": "code",
   "execution_count": 6,
   "id": "882f7e36",
   "metadata": {},
   "outputs": [
    {
     "name": "stdout",
     "output_type": "stream",
     "text": [
      "Metrics function defined.\n"
     ]
    }
   ],
   "source": [
    "# Define metrics function\n",
    "def compute_metrics(eval_pred: EvalPrediction):\n",
    "    predictions, labels = eval_pred\n",
    "    predictions = np.argmax(predictions, axis=1)\n",
    "    \n",
    "    precision, recall, f1, _ = precision_recall_fscore_support(labels, predictions, average='weighted')\n",
    "    accuracy = accuracy_score(labels, predictions)\n",
    "    \n",
    "    return {\n",
    "        'accuracy': accuracy,\n",
    "        'f1': f1,\n",
    "        'precision': precision,\n",
    "        'recall': recall\n",
    "    }\n",
    "\n",
    "print(\"Metrics function defined.\")"
   ]
  },
  {
   "cell_type": "code",
   "execution_count": 8,
   "id": "8c211b0f",
   "metadata": {},
   "outputs": [
    {
     "name": "stdout",
     "output_type": "stream",
     "text": [
      "Training arguments configured.\n"
     ]
    }
   ],
   "source": [
    "# Set up training arguments\n",
    "training_args = TrainingArguments(\n",
    "    output_dir='../models/roberta_results',\n",
    "    num_train_epochs=3,\n",
    "    per_device_train_batch_size=8,  # Adjust based on GPU memory\n",
    "    per_device_eval_batch_size=16,\n",
    "    warmup_steps=500,\n",
    "    weight_decay=0.01,\n",
    "    logging_dir='../models/roberta_logs',\n",
    "    logging_steps=100,\n",
    "    eval_strategy=\"steps\",  # Changed from evaluation_strategy\n",
    "    eval_steps=500,\n",
    "    save_steps=1000,\n",
    "    save_total_limit=2,\n",
    "    load_best_model_at_end=True,\n",
    "    metric_for_best_model=\"accuracy\",\n",
    "    greater_is_better=True,\n",
    "    push_to_hub=False,\n",
    "    dataloader_num_workers=0,  # Set to 0 for Windows compatibility\n",
    "    fp16=torch.cuda.is_available(),  # Use mixed precision if GPU available\n",
    ")\n",
    "\n",
    "print(\"Training arguments configured.\")"
   ]
  },
  {
   "cell_type": "code",
   "execution_count": null,
   "id": "b75e9080",
   "metadata": {},
   "outputs": [
    {
     "name": "stdout",
     "output_type": "stream",
     "text": [
      "Trainer initialized. Starting training...\n",
      "This may take 30-60 minutes depending on your hardware.\n"
     ]
    },
    {
     "data": {
      "text/html": [
       "\n",
       "    <div>\n",
       "      \n",
       "      <progress value='39' max='6111' style='width:300px; height:20px; vertical-align: middle;'></progress>\n",
       "      [  39/6111 16:27 < 45:01:58, 0.04 it/s, Epoch 0.02/3]\n",
       "    </div>\n",
       "    <table border=\"1\" class=\"dataframe\">\n",
       "  <thead>\n",
       " <tr style=\"text-align: left;\">\n",
       "      <th>Step</th>\n",
       "      <th>Training Loss</th>\n",
       "      <th>Validation Loss</th>\n",
       "    </tr>\n",
       "  </thead>\n",
       "  <tbody>\n",
       "  </tbody>\n",
       "</table><p>"
      ],
      "text/plain": [
       "<IPython.core.display.HTML object>"
      ]
     },
     "metadata": {},
     "output_type": "display_data"
    }
   ],
   "source": [
    "# Initialize trainer\n",
    "trainer = Trainer(\n",
    "    model=model,\n",
    "    args=training_args,\n",
    "    train_dataset=train_dataset,\n",
    "    eval_dataset=val_dataset,\n",
    "    compute_metrics=compute_metrics,\n",
    ")\n",
    "\n",
    "print(\"Trainer initialized. Starting training...\")\n",
    "print(\"This may take 30-60 minutes depending on your hardware.\")\n",
    "\n",
    "# Train the model\n",
    "training_result = trainer.train()\n",
    "\n",
    "print(\"Training completed!\")\n",
    "print(f\"Training loss: {training_result.training_loss:.4f}\")"
   ]
  },
  {
   "cell_type": "code",
   "execution_count": null,
   "id": "7ecf8fa6",
   "metadata": {},
   "outputs": [],
   "source": [
    "# Evaluate on test set\n",
    "print(\"Evaluating on test set...\")\n",
    "test_results = trainer.evaluate(test_dataset)\n",
    "\n",
    "print(\"\\nTest Results:\")\n",
    "for key, value in test_results.items():\n",
    "    if key.startswith('eval_'):\n",
    "        metric_name = key.replace('eval_', '').title()\n",
    "        print(f\"{metric_name}: {value:.4f}\")"
   ]
  },
  {
   "cell_type": "code",
   "execution_count": null,
   "id": "e014fbab",
   "metadata": {},
   "outputs": [],
   "source": [
    "# Get detailed predictions for analysis\n",
    "predictions = trainer.predict(test_dataset)\n",
    "y_pred = np.argmax(predictions.predictions, axis=1)\n",
    "y_true = predictions.label_ids\n",
    "\n",
    "# Classification report\n",
    "print(\"\\nDetailed Classification Report:\")\n",
    "print(classification_report(y_true, y_pred, \n",
    "                          target_names=['Human', 'AI Generated'],\n",
    "                          digits=4))\n",
    "\n",
    "# Confusion matrix\n",
    "cm = confusion_matrix(y_true, y_pred)\n",
    "print(f\"\\nConfusion Matrix:\")\n",
    "print(cm)"
   ]
  },
  {
   "cell_type": "code",
   "execution_count": null,
   "id": "33d0d47a",
   "metadata": {},
   "outputs": [],
   "source": [
    "# Visualize confusion matrix\n",
    "plt.figure(figsize=(8, 6))\n",
    "sns.heatmap(cm, annot=True, fmt='d', cmap='Blues', \n",
    "            xticklabels=['Human', 'AI Generated'],\n",
    "            yticklabels=['Human', 'AI Generated'])\n",
    "plt.title('RoBERTa Model - Confusion Matrix')\n",
    "plt.xlabel('Predicted')\n",
    "plt.ylabel('Actual')\n",
    "plt.tight_layout()\n",
    "plt.show()\n",
    "\n",
    "# Calculate additional metrics\n",
    "tn, fp, fn, tp = cm.ravel()\n",
    "specificity = tn / (tn + fp)\n",
    "sensitivity = tp / (tp + fn)\n",
    "precision = tp / (tp + fp)\n",
    "f1 = 2 * (precision * sensitivity) / (precision + sensitivity)\n",
    "\n",
    "print(f\"\\nAdditional Metrics:\")\n",
    "print(f\"Sensitivity (Recall): {sensitivity:.4f}\")\n",
    "print(f\"Specificity: {specificity:.4f}\")\n",
    "print(f\"Precision: {precision:.4f}\")\n",
    "print(f\"F1-Score: {f1:.4f}\")"
   ]
  },
  {
   "cell_type": "code",
   "execution_count": null,
   "id": "d8feac01",
   "metadata": {},
   "outputs": [],
   "source": [
    "# Save the trained model\n",
    "model_save_path = '../models/roberta_ai_detector'\n",
    "trainer.save_model(model_save_path)\n",
    "tokenizer.save_pretrained(model_save_path)\n",
    "\n",
    "print(f\"Model saved to: {model_save_path}\")\n",
    "\n",
    "# Save test results\n",
    "results_dict = {\n",
    "    'model_name': 'RoBERTa-base',\n",
    "    'test_accuracy': float(test_results['eval_accuracy']),\n",
    "    'test_f1': float(test_results['eval_f1']),\n",
    "    'test_precision': float(test_results['eval_precision']),\n",
    "    'test_recall': float(test_results['eval_recall']),\n",
    "    'confusion_matrix': cm.tolist(),\n",
    "    'training_samples': len(X_train),\n",
    "    'test_samples': len(X_test)\n",
    "}\n",
    "\n",
    "import json\n",
    "with open('../models/roberta_results.json', 'w') as f:\n",
    "    json.dump(results_dict, f, indent=2)\n",
    "\n",
    "print(\"Results saved to '../models/roberta_results.json'\")"
   ]
  },
  {
   "cell_type": "code",
   "execution_count": null,
   "id": "a59e5be5",
   "metadata": {},
   "outputs": [],
   "source": [
    "# Test with sample predictions\n",
    "def predict_text(text, model, tokenizer, device, max_length=512):\n",
    "    \"\"\"Predict if text is AI-generated or human-written\"\"\"\n",
    "    model.eval()\n",
    "    \n",
    "    # Tokenize\n",
    "    encoding = tokenizer(\n",
    "        text,\n",
    "        truncation=True,\n",
    "        padding='max_length',\n",
    "        max_length=max_length,\n",
    "        return_tensors='pt'\n",
    "    )\n",
    "    \n",
    "    # Move to device\n",
    "    input_ids = encoding['input_ids'].to(device)\n",
    "    attention_mask = encoding['attention_mask'].to(device)\n",
    "    \n",
    "    # Predict\n",
    "    with torch.no_grad():\n",
    "        outputs = model(input_ids=input_ids, attention_mask=attention_mask)\n",
    "        probabilities = torch.nn.functional.softmax(outputs.logits, dim=-1)\n",
    "        prediction = torch.argmax(probabilities, dim=-1)\n",
    "    \n",
    "    return prediction.item(), probabilities[0].cpu().numpy()\n",
    "\n",
    "# Test with sample texts\n",
    "model.to(device)\n",
    "\n",
    "# Sample AI text (from your dataset)\n",
    "ai_sample = df[df['generated'] == 1]['text'].iloc[0][:500]\n",
    "pred, probs = predict_text(ai_sample, model, tokenizer, device)\n",
    "print(\"Sample AI Text Prediction:\")\n",
    "print(f\"Predicted: {'AI Generated' if pred == 1 else 'Human'}\")\n",
    "print(f\"Confidence: {probs[pred]:.4f}\")\n",
    "print(f\"Probabilities: Human={probs[0]:.4f}, AI={probs[1]:.4f}\")\n",
    "\n",
    "print(\"\\n\" + \"=\"*50 + \"\\n\")\n",
    "\n",
    "# Sample human text\n",
    "human_sample = df[df['generated'] == 0]['text'].iloc[0][:500]\n",
    "pred, probs = predict_text(human_sample, model, tokenizer, device)\n",
    "print(\"Sample Human Text Prediction:\")\n",
    "print(f\"Predicted: {'AI Generated' if pred == 1 else 'Human'}\")\n",
    "print(f\"Confidence: {probs[pred]:.4f}\")\n",
    "print(f\"Probabilities: Human={probs[0]:.4f}, AI={probs[1]:.4f}\")\n",
    "\n",
    "print(\"\\nRoBERTa model training completed successfully!\")"
   ]
  }
 ],
 "metadata": {
  "kernelspec": {
   "display_name": ".venv (3.12.4)",
   "language": "python",
   "name": "python3"
  },
  "language_info": {
   "codemirror_mode": {
    "name": "ipython",
    "version": 3
   },
   "file_extension": ".py",
   "mimetype": "text/x-python",
   "name": "python",
   "nbconvert_exporter": "python",
   "pygments_lexer": "ipython3",
   "version": "3.12.4"
  }
 },
 "nbformat": 4,
 "nbformat_minor": 5
}
